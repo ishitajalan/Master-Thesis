{
 "cells": [
  {
   "cell_type": "code",
   "execution_count": null,
   "id": "4c37f403",
   "metadata": {},
   "outputs": [],
   "source": [
    "import pandas as pd\n",
    "import numpy as np\n",
    "import os\n",
    "import csv"
   ]
  },
  {
   "cell_type": "code",
   "execution_count": null,
   "id": "d71af7d2",
   "metadata": {},
   "outputs": [],
   "source": [
    "## --- Author: Ishita Jalan ---"
   ]
  },
  {
   "cell_type": "code",
   "execution_count": null,
   "id": "8189c2bd",
   "metadata": {},
   "outputs": [],
   "source": [
    "def swatformat(file_max, file_min, dataname):\n",
    "    \n",
    "    os.chdir(r'D:\\TUM\\Master_Thesis\\Benin\\Data\\Processed_data-ALL\\Subbasin_data')\n",
    "    df_max = pd.read_csv(file_max)\n",
    "    df_min = pd.read_csv(file_min)\n",
    "    \n",
    "    col_no = len(df_max.columns)-1 #parsing through 30 subbasins\n",
    "    \n",
    "    os.mkdir(dataname)\n",
    "    \n",
    "    os.chdir(dataname)\n",
    "    \n",
    "    for i in range(col_no):\n",
    "        subset = pd.DataFrame()\n",
    "        header = str(i)\n",
    "        \n",
    "        subset['19950101'] = df_max[header] #the header takes into account the warm up period added later\n",
    "        subset['min'] = df_min[header]\n",
    "        \n",
    "        #remove entries for the year 1998 from data\n",
    "        subset.drop(subset.index[0:364],0,inplace=True)\n",
    "        subset.index = subset.index + 1460\n",
    "        \n",
    "        #copy first three years from dataframe (1999 -> 2002) to the top of dataframe\n",
    "        warmup_df = pd.DataFrame()\n",
    "        warmup_df = subset.iloc[0:1460,:]\n",
    "        warmup_df = warmup_df.reset_index(drop=True)\n",
    "        \n",
    "        subset = subset.append(warmup_df)\n",
    "\n",
    "        subset.sort_index(inplace = True)\n",
    "        \n",
    "        subset.rename(columns = {'min': \"\"}, inplace = True)\n",
    "        \n",
    "        subbasin_id = str(i+1)\n",
    "        \n",
    "        subset.to_csv('sub'+ subbasin_id + '.txt', index = False)\n",
    "        "
   ]
  },
  {
   "cell_type": "code",
   "execution_count": null,
   "id": "bf8deb51",
   "metadata": {},
   "outputs": [],
   "source": [
    "swatformat('CPC_tmax_subbasins.csv', 'CPC_tmin_subbasins.csv','CPC')"
   ]
  },
  {
   "cell_type": "code",
   "execution_count": null,
   "id": "6963dc27",
   "metadata": {},
   "outputs": [],
   "source": [
    "swatformat('ERA5_tmax_subbasins.csv', 'ERA5_tmin_subbasins.csv','ERA5')"
   ]
  },
  {
   "cell_type": "code",
   "execution_count": null,
   "id": "6f54fe9d",
   "metadata": {},
   "outputs": [],
   "source": [
    "swatformat('EWEMBI_tmax_subbasins.csv', 'EWEMBI_tmin_subbasins.csv','EWEMBI')"
   ]
  },
  {
   "cell_type": "code",
   "execution_count": null,
   "id": "dd9c1042",
   "metadata": {},
   "outputs": [],
   "source": [
    "swatformat('PGF_tmax_subbasins.csv', 'PGF_tmin_subbasins.csv','PGF')"
   ]
  },
  {
   "cell_type": "code",
   "execution_count": null,
   "id": "f0dd62bf",
   "metadata": {},
   "outputs": [],
   "source": [
    "swatformat('CFSR_tmax_subbasins.csv', 'CFSR_tmin_subbasins.csv','CFSR')"
   ]
  }
 ],
 "metadata": {
  "kernelspec": {
   "display_name": "mtenv",
   "language": "python",
   "name": "mtenv"
  },
  "language_info": {
   "codemirror_mode": {
    "name": "ipython",
    "version": 3
   },
   "file_extension": ".py",
   "mimetype": "text/x-python",
   "name": "python",
   "nbconvert_exporter": "python",
   "pygments_lexer": "ipython3",
   "version": "3.7.12"
  }
 },
 "nbformat": 4,
 "nbformat_minor": 5
}
