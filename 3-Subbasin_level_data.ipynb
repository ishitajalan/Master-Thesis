{
 "cells": [
  {
   "cell_type": "code",
   "execution_count": null,
   "id": "0ea3f551",
   "metadata": {},
   "outputs": [],
   "source": [
    "import pandas as pd\n",
    "import numpy as np\n",
    "import os"
   ]
  },
  {
   "cell_type": "code",
   "execution_count": null,
   "id": "893574ce",
   "metadata": {},
   "outputs": [],
   "source": [
    "## --- Author: Ishita Jalan ---"
   ]
  },
  {
   "cell_type": "code",
   "execution_count": null,
   "id": "83d82800",
   "metadata": {},
   "outputs": [],
   "source": [
    "# Function to convert time series data for each location point to subbasin level data - averaged for each subbasin\n",
    "\n",
    "def temptosubbasins(directory,tmax,tmin,subbasins,dataname):\n",
    "    \n",
    "    os.chdir(directory)\n",
    "    \n",
    "    subbasins = pd.read_excel(subbasins, sheet_name = 'Sheet1', engine = 'openpyxl')\n",
    "    tmax = pd.read_excel(tmax, sheet_name = 'Sheet1', engine = 'openpyxl')\n",
    "    tmin = pd.read_excel(tmin, sheet_name = 'Sheet1', engine = 'openpyxl')\n",
    "    \n",
    "    subbasins.sort_values(by='Subbasin', inplace=True)\n",
    "    ls_subsn = subbasins['Subbasin'].unique()\n",
    "    \n",
    "    final_tmax = pd.DataFrame()\n",
    "    final_tmin = pd.DataFrame()\n",
    "\n",
    "    for i in range(len(ls_subsn)):\n",
    "        print(\"Processing subbasin number:\", ls_subsn[i])\n",
    "        sb_df = subbasins[subbasins['Subbasin']==ls_subsn[i]]\n",
    "        ls_loc = sb_df['Location']\n",
    "    \n",
    "        tmin_subset = tmin[tmin['Location'].isin(ls_loc)]\n",
    "        tmin_df = pd.merge(tmin_subset, sb_df, on = 'Location')\n",
    "        tmin_df.drop(['OBJECTID', 'Latitude', 'Longitude', 'Subbasin', 'gridcode'], axis= 1, inplace = True) #adding the area ocolumn to the tmin data df\n",
    "        \n",
    "        tmax_subset = tmax[tmax['Location'].isin(ls_loc)]\n",
    "        tmax_df = pd.merge(tmax_subset, sb_df, on = 'Location')\n",
    "        tmax_df.drop(['OBJECTID', 'Latitude', 'Longitude', 'Subbasin', 'gridcode'], axis= 1, inplace = True) #adding the area ocolumn to the tmax data df\n",
    "    \n",
    "        sum_area = tmax_df['Cell_Area'].sum() #calculating the total area under the current subbasin\n",
    "    \n",
    "        temp_xlen = len(tmax_df.columns)-2 #determining the number of columns in the dataframe\n",
    "    \n",
    "        ls_tmax = []\n",
    "        ls_tmin = []\n",
    "    \n",
    "        for j in range(temp_xlen):\n",
    "            tmin_df[j] = tmin_df[j] * tmin_df['Cell_Area']\n",
    "            min_avg = tmin_df[j].sum()/sum_area #calculating weighted average for each day of the time series\n",
    "            ls_tmin.append(min_avg)\n",
    "        \n",
    "            tmax_df[j] = tmax_df[j] * tmax_df['Cell_Area']\n",
    "            max_avg = tmax_df[j].sum()/sum_area\n",
    "            ls_tmax.append(max_avg)\n",
    "    \n",
    "        final_tmin[i] = ls_tmin\n",
    "        final_tmax[i] = ls_tmax\n",
    "    \n",
    "    final_tmin.to_csv(dataname + '_tmin_subbasins.csv')\n",
    "    final_tmax.to_csv(dataname + '_tmax_subbasins.csv')"
   ]
  },
  {
   "cell_type": "code",
   "execution_count": null,
   "id": "6f750c2d",
   "metadata": {},
   "outputs": [],
   "source": [
    "#Calling the function for EWEMBI data\n",
    "temptosubbasins(r'D:\\TUM\\Master_Thesis\\Benin\\Data\\EWEMBI_v1.1-second_download\\time_series', 'EWEMBI_max_1998-2012.xlsx',\n",
    "                'EWEMBI_min_1998-2012.xlsx', 'EWE_intersect_subbasins.xlsx','EWEMBI')"
   ]
  },
  {
   "cell_type": "code",
   "execution_count": null,
   "id": "b9558022",
   "metadata": {},
   "outputs": [],
   "source": [
    "#Calling the function for ERA5 data\n",
    "temptosubbasins(r'D:\\TUM\\Master_Thesis\\Benin\\Data\\ERA5\\time_series', 'ERA5_max_1998-2012.xlsx', 'ERA5_min_1998-2012.xlsx',\n",
    "                'ERA5_intersect_subbasins.xlsx', 'ERA5')"
   ]
  },
  {
   "cell_type": "code",
   "execution_count": null,
   "id": "7ba16555",
   "metadata": {},
   "outputs": [],
   "source": [
    "#Calling the function for CFSR data - also eliminate 'Shape_Area' in the function above\n",
    "temptosubbasins(r'D:\\TUM\\Master_Thesis\\Benin\\Data\\CFSR', 'CFSR_tmax.xlsx', 'CFSR_tmin.xlsx',\n",
    "                'CFSR_intersect_subbasins.xlsx', 'CFSR')"
   ]
  },
  {
   "cell_type": "code",
   "execution_count": null,
   "id": "56a42d64",
   "metadata": {},
   "outputs": [],
   "source": [
    "#Calling the function for CPC data\n",
    "temptosubbasins(r'D:\\TUM\\Master_Thesis\\Benin\\Data\\CPC\\time_series', 'CPC_tmax_1998-2012.xlsx', 'CPC_tmin_1998-2012.xlsx',\n",
    "                'CPC_intersect_subbasins.xlsx','CPC')"
   ]
  },
  {
   "cell_type": "code",
   "execution_count": null,
   "id": "82979953",
   "metadata": {},
   "outputs": [],
   "source": [
    "#Calling the function for PGF data - also change 'Shape_Area' to 'Area' in the function above\n",
    "temptosubbasins(r'D:\\TUM\\Master_Thesis\\Benin\\Data\\PGF\\time_series', 'PGF_tmax_1998-2012.xlsx', 'PGF_tmin_1998-2012.xlsx',\n",
    "                'PGF_intersect_subbasins.xlsx','PGF')"
   ]
  }
 ],
 "metadata": {
  "kernelspec": {
   "display_name": "mtenv",
   "language": "python",
   "name": "mtenv"
  },
  "language_info": {
   "codemirror_mode": {
    "name": "ipython",
    "version": 3
   },
   "file_extension": ".py",
   "mimetype": "text/x-python",
   "name": "python",
   "nbconvert_exporter": "python",
   "pygments_lexer": "ipython3",
   "version": "3.7.12"
  }
 },
 "nbformat": 4,
 "nbformat_minor": 5
}
